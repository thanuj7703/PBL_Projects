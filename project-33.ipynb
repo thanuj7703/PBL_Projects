{
 "cells": [
  {
   "cell_type": "code",
   "execution_count": 1,
   "id": "f3d29f4a",
   "metadata": {},
   "outputs": [],
   "source": [
    "import numpy as np\n",
    "import pandas as pd"
   ]
  },
  {
   "cell_type": "code",
   "execution_count": 2,
   "id": "b0949ebb",
   "metadata": {},
   "outputs": [
    {
     "data": {
      "text/html": [
       "<div>\n",
       "<style scoped>\n",
       "    .dataframe tbody tr th:only-of-type {\n",
       "        vertical-align: middle;\n",
       "    }\n",
       "\n",
       "    .dataframe tbody tr th {\n",
       "        vertical-align: top;\n",
       "    }\n",
       "\n",
       "    .dataframe thead th {\n",
       "        text-align: right;\n",
       "    }\n",
       "</style>\n",
       "<table border=\"1\" class=\"dataframe\">\n",
       "  <thead>\n",
       "    <tr style=\"text-align: right;\">\n",
       "      <th></th>\n",
       "      <th>employee_id</th>\n",
       "      <th>department</th>\n",
       "      <th>region</th>\n",
       "      <th>education</th>\n",
       "      <th>gender</th>\n",
       "      <th>recruitment_channel</th>\n",
       "      <th>no_of_trainings</th>\n",
       "      <th>age</th>\n",
       "      <th>previous_year_rating</th>\n",
       "      <th>length_of_service</th>\n",
       "      <th>awards_won</th>\n",
       "      <th>avg_training_score</th>\n",
       "      <th>is_promoted</th>\n",
       "    </tr>\n",
       "  </thead>\n",
       "  <tbody>\n",
       "    <tr>\n",
       "      <th>0</th>\n",
       "      <td>65438</td>\n",
       "      <td>Sales &amp; Marketing</td>\n",
       "      <td>region_7</td>\n",
       "      <td>Master's &amp; above</td>\n",
       "      <td>f</td>\n",
       "      <td>sourcing</td>\n",
       "      <td>1</td>\n",
       "      <td>35</td>\n",
       "      <td>5.0</td>\n",
       "      <td>8</td>\n",
       "      <td>0</td>\n",
       "      <td>49.0</td>\n",
       "      <td>0</td>\n",
       "    </tr>\n",
       "    <tr>\n",
       "      <th>1</th>\n",
       "      <td>65141</td>\n",
       "      <td>Operations</td>\n",
       "      <td>region_22</td>\n",
       "      <td>Bachelor's</td>\n",
       "      <td>m</td>\n",
       "      <td>other</td>\n",
       "      <td>1</td>\n",
       "      <td>30</td>\n",
       "      <td>5.0</td>\n",
       "      <td>4</td>\n",
       "      <td>0</td>\n",
       "      <td>60.0</td>\n",
       "      <td>0</td>\n",
       "    </tr>\n",
       "    <tr>\n",
       "      <th>2</th>\n",
       "      <td>7513</td>\n",
       "      <td>Sales &amp; Marketing</td>\n",
       "      <td>region_19</td>\n",
       "      <td>Bachelor's</td>\n",
       "      <td>m</td>\n",
       "      <td>sourcing</td>\n",
       "      <td>1</td>\n",
       "      <td>34</td>\n",
       "      <td>3.0</td>\n",
       "      <td>7</td>\n",
       "      <td>0</td>\n",
       "      <td>50.0</td>\n",
       "      <td>0</td>\n",
       "    </tr>\n",
       "    <tr>\n",
       "      <th>3</th>\n",
       "      <td>2542</td>\n",
       "      <td>Sales &amp; Marketing</td>\n",
       "      <td>region_23</td>\n",
       "      <td>Bachelor's</td>\n",
       "      <td>m</td>\n",
       "      <td>other</td>\n",
       "      <td>2</td>\n",
       "      <td>39</td>\n",
       "      <td>1.0</td>\n",
       "      <td>10</td>\n",
       "      <td>0</td>\n",
       "      <td>50.0</td>\n",
       "      <td>0</td>\n",
       "    </tr>\n",
       "    <tr>\n",
       "      <th>4</th>\n",
       "      <td>48945</td>\n",
       "      <td>Technology</td>\n",
       "      <td>region_26</td>\n",
       "      <td>Bachelor's</td>\n",
       "      <td>m</td>\n",
       "      <td>other</td>\n",
       "      <td>1</td>\n",
       "      <td>45</td>\n",
       "      <td>3.0</td>\n",
       "      <td>2</td>\n",
       "      <td>0</td>\n",
       "      <td>73.0</td>\n",
       "      <td>0</td>\n",
       "    </tr>\n",
       "    <tr>\n",
       "      <th>...</th>\n",
       "      <td>...</td>\n",
       "      <td>...</td>\n",
       "      <td>...</td>\n",
       "      <td>...</td>\n",
       "      <td>...</td>\n",
       "      <td>...</td>\n",
       "      <td>...</td>\n",
       "      <td>...</td>\n",
       "      <td>...</td>\n",
       "      <td>...</td>\n",
       "      <td>...</td>\n",
       "      <td>...</td>\n",
       "      <td>...</td>\n",
       "    </tr>\n",
       "    <tr>\n",
       "      <th>54803</th>\n",
       "      <td>3030</td>\n",
       "      <td>Technology</td>\n",
       "      <td>region_14</td>\n",
       "      <td>Bachelor's</td>\n",
       "      <td>m</td>\n",
       "      <td>sourcing</td>\n",
       "      <td>1</td>\n",
       "      <td>48</td>\n",
       "      <td>3.0</td>\n",
       "      <td>17</td>\n",
       "      <td>0</td>\n",
       "      <td>78.0</td>\n",
       "      <td>0</td>\n",
       "    </tr>\n",
       "    <tr>\n",
       "      <th>54804</th>\n",
       "      <td>74592</td>\n",
       "      <td>Operations</td>\n",
       "      <td>region_27</td>\n",
       "      <td>Master's &amp; above</td>\n",
       "      <td>f</td>\n",
       "      <td>other</td>\n",
       "      <td>1</td>\n",
       "      <td>37</td>\n",
       "      <td>2.0</td>\n",
       "      <td>6</td>\n",
       "      <td>0</td>\n",
       "      <td>56.0</td>\n",
       "      <td>0</td>\n",
       "    </tr>\n",
       "    <tr>\n",
       "      <th>54805</th>\n",
       "      <td>13918</td>\n",
       "      <td>Analytics</td>\n",
       "      <td>region_1</td>\n",
       "      <td>Bachelor's</td>\n",
       "      <td>m</td>\n",
       "      <td>other</td>\n",
       "      <td>1</td>\n",
       "      <td>27</td>\n",
       "      <td>5.0</td>\n",
       "      <td>3</td>\n",
       "      <td>0</td>\n",
       "      <td>79.0</td>\n",
       "      <td>0</td>\n",
       "    </tr>\n",
       "    <tr>\n",
       "      <th>54806</th>\n",
       "      <td>13614</td>\n",
       "      <td>Sales &amp; Marketing</td>\n",
       "      <td>region_9</td>\n",
       "      <td>NaN</td>\n",
       "      <td>m</td>\n",
       "      <td>sourcing</td>\n",
       "      <td>1</td>\n",
       "      <td>29</td>\n",
       "      <td>1.0</td>\n",
       "      <td>2</td>\n",
       "      <td>0</td>\n",
       "      <td>NaN</td>\n",
       "      <td>0</td>\n",
       "    </tr>\n",
       "    <tr>\n",
       "      <th>54807</th>\n",
       "      <td>51526</td>\n",
       "      <td>HR</td>\n",
       "      <td>region_22</td>\n",
       "      <td>Bachelor's</td>\n",
       "      <td>m</td>\n",
       "      <td>other</td>\n",
       "      <td>1</td>\n",
       "      <td>27</td>\n",
       "      <td>1.0</td>\n",
       "      <td>5</td>\n",
       "      <td>0</td>\n",
       "      <td>49.0</td>\n",
       "      <td>0</td>\n",
       "    </tr>\n",
       "  </tbody>\n",
       "</table>\n",
       "<p>54808 rows × 13 columns</p>\n",
       "</div>"
      ],
      "text/plain": [
       "       employee_id         department     region         education gender  \\\n",
       "0            65438  Sales & Marketing   region_7  Master's & above      f   \n",
       "1            65141         Operations  region_22        Bachelor's      m   \n",
       "2             7513  Sales & Marketing  region_19        Bachelor's      m   \n",
       "3             2542  Sales & Marketing  region_23        Bachelor's      m   \n",
       "4            48945         Technology  region_26        Bachelor's      m   \n",
       "...            ...                ...        ...               ...    ...   \n",
       "54803         3030         Technology  region_14        Bachelor's      m   \n",
       "54804        74592         Operations  region_27  Master's & above      f   \n",
       "54805        13918          Analytics   region_1        Bachelor's      m   \n",
       "54806        13614  Sales & Marketing   region_9               NaN      m   \n",
       "54807        51526                 HR  region_22        Bachelor's      m   \n",
       "\n",
       "      recruitment_channel  no_of_trainings  age  previous_year_rating  \\\n",
       "0                sourcing                1   35                   5.0   \n",
       "1                   other                1   30                   5.0   \n",
       "2                sourcing                1   34                   3.0   \n",
       "3                   other                2   39                   1.0   \n",
       "4                   other                1   45                   3.0   \n",
       "...                   ...              ...  ...                   ...   \n",
       "54803            sourcing                1   48                   3.0   \n",
       "54804               other                1   37                   2.0   \n",
       "54805               other                1   27                   5.0   \n",
       "54806            sourcing                1   29                   1.0   \n",
       "54807               other                1   27                   1.0   \n",
       "\n",
       "       length_of_service  awards_won  avg_training_score  is_promoted  \n",
       "0                      8           0                49.0            0  \n",
       "1                      4           0                60.0            0  \n",
       "2                      7           0                50.0            0  \n",
       "3                     10           0                50.0            0  \n",
       "4                      2           0                73.0            0  \n",
       "...                  ...         ...                 ...          ...  \n",
       "54803                 17           0                78.0            0  \n",
       "54804                  6           0                56.0            0  \n",
       "54805                  3           0                79.0            0  \n",
       "54806                  2           0                 NaN            0  \n",
       "54807                  5           0                49.0            0  \n",
       "\n",
       "[54808 rows x 13 columns]"
      ]
     },
     "execution_count": 2,
     "metadata": {},
     "output_type": "execute_result"
    }
   ],
   "source": [
    "df=pd.read_csv(\"employee_promotion.csv\")\n",
    "df"
   ]
  },
  {
   "cell_type": "code",
   "execution_count": 3,
   "id": "c5be803b",
   "metadata": {},
   "outputs": [
    {
     "data": {
      "text/plain": [
       "Index(['employee_id', 'department', 'region', 'education', 'gender',\n",
       "       'recruitment_channel', 'no_of_trainings', 'age', 'previous_year_rating',\n",
       "       'length_of_service', 'awards_won', 'avg_training_score', 'is_promoted'],\n",
       "      dtype='object')"
      ]
     },
     "execution_count": 3,
     "metadata": {},
     "output_type": "execute_result"
    }
   ],
   "source": [
    "df.columns"
   ]
  },
  {
   "cell_type": "code",
   "execution_count": 4,
   "id": "113571b6",
   "metadata": {},
   "outputs": [
    {
     "data": {
      "text/html": [
       "<div>\n",
       "<style scoped>\n",
       "    .dataframe tbody tr th:only-of-type {\n",
       "        vertical-align: middle;\n",
       "    }\n",
       "\n",
       "    .dataframe tbody tr th {\n",
       "        vertical-align: top;\n",
       "    }\n",
       "\n",
       "    .dataframe thead th {\n",
       "        text-align: right;\n",
       "    }\n",
       "</style>\n",
       "<table border=\"1\" class=\"dataframe\">\n",
       "  <thead>\n",
       "    <tr style=\"text-align: right;\">\n",
       "      <th></th>\n",
       "      <th>employee_id</th>\n",
       "      <th>no_of_trainings</th>\n",
       "      <th>age</th>\n",
       "      <th>previous_year_rating</th>\n",
       "      <th>length_of_service</th>\n",
       "      <th>awards_won</th>\n",
       "      <th>avg_training_score</th>\n",
       "      <th>is_promoted</th>\n",
       "    </tr>\n",
       "  </thead>\n",
       "  <tbody>\n",
       "    <tr>\n",
       "      <th>employee_id</th>\n",
       "      <td>1.000000</td>\n",
       "      <td>-0.005121</td>\n",
       "      <td>0.000437</td>\n",
       "      <td>0.004533</td>\n",
       "      <td>0.001274</td>\n",
       "      <td>0.008420</td>\n",
       "      <td>-0.000661</td>\n",
       "      <td>0.001206</td>\n",
       "    </tr>\n",
       "    <tr>\n",
       "      <th>no_of_trainings</th>\n",
       "      <td>-0.005121</td>\n",
       "      <td>1.000000</td>\n",
       "      <td>-0.081278</td>\n",
       "      <td>-0.063126</td>\n",
       "      <td>-0.057275</td>\n",
       "      <td>-0.007628</td>\n",
       "      <td>0.044430</td>\n",
       "      <td>-0.024896</td>\n",
       "    </tr>\n",
       "    <tr>\n",
       "      <th>age</th>\n",
       "      <td>0.000437</td>\n",
       "      <td>-0.081278</td>\n",
       "      <td>1.000000</td>\n",
       "      <td>0.006008</td>\n",
       "      <td>0.657111</td>\n",
       "      <td>-0.008169</td>\n",
       "      <td>-0.049500</td>\n",
       "      <td>-0.017166</td>\n",
       "    </tr>\n",
       "    <tr>\n",
       "      <th>previous_year_rating</th>\n",
       "      <td>0.004533</td>\n",
       "      <td>-0.063126</td>\n",
       "      <td>0.006008</td>\n",
       "      <td>1.000000</td>\n",
       "      <td>0.000253</td>\n",
       "      <td>0.027738</td>\n",
       "      <td>0.075474</td>\n",
       "      <td>0.159320</td>\n",
       "    </tr>\n",
       "    <tr>\n",
       "      <th>length_of_service</th>\n",
       "      <td>0.001274</td>\n",
       "      <td>-0.057275</td>\n",
       "      <td>0.657111</td>\n",
       "      <td>0.000253</td>\n",
       "      <td>1.000000</td>\n",
       "      <td>-0.039927</td>\n",
       "      <td>-0.039381</td>\n",
       "      <td>-0.010670</td>\n",
       "    </tr>\n",
       "    <tr>\n",
       "      <th>awards_won</th>\n",
       "      <td>0.008420</td>\n",
       "      <td>-0.007628</td>\n",
       "      <td>-0.008169</td>\n",
       "      <td>0.027738</td>\n",
       "      <td>-0.039927</td>\n",
       "      <td>1.000000</td>\n",
       "      <td>0.073963</td>\n",
       "      <td>0.195871</td>\n",
       "    </tr>\n",
       "    <tr>\n",
       "      <th>avg_training_score</th>\n",
       "      <td>-0.000661</td>\n",
       "      <td>0.044430</td>\n",
       "      <td>-0.049500</td>\n",
       "      <td>0.075474</td>\n",
       "      <td>-0.039381</td>\n",
       "      <td>0.073963</td>\n",
       "      <td>1.000000</td>\n",
       "      <td>0.184386</td>\n",
       "    </tr>\n",
       "    <tr>\n",
       "      <th>is_promoted</th>\n",
       "      <td>0.001206</td>\n",
       "      <td>-0.024896</td>\n",
       "      <td>-0.017166</td>\n",
       "      <td>0.159320</td>\n",
       "      <td>-0.010670</td>\n",
       "      <td>0.195871</td>\n",
       "      <td>0.184386</td>\n",
       "      <td>1.000000</td>\n",
       "    </tr>\n",
       "  </tbody>\n",
       "</table>\n",
       "</div>"
      ],
      "text/plain": [
       "                      employee_id  no_of_trainings       age  \\\n",
       "employee_id              1.000000        -0.005121  0.000437   \n",
       "no_of_trainings         -0.005121         1.000000 -0.081278   \n",
       "age                      0.000437        -0.081278  1.000000   \n",
       "previous_year_rating     0.004533        -0.063126  0.006008   \n",
       "length_of_service        0.001274        -0.057275  0.657111   \n",
       "awards_won               0.008420        -0.007628 -0.008169   \n",
       "avg_training_score      -0.000661         0.044430 -0.049500   \n",
       "is_promoted              0.001206        -0.024896 -0.017166   \n",
       "\n",
       "                      previous_year_rating  length_of_service  awards_won  \\\n",
       "employee_id                       0.004533           0.001274    0.008420   \n",
       "no_of_trainings                  -0.063126          -0.057275   -0.007628   \n",
       "age                               0.006008           0.657111   -0.008169   \n",
       "previous_year_rating              1.000000           0.000253    0.027738   \n",
       "length_of_service                 0.000253           1.000000   -0.039927   \n",
       "awards_won                        0.027738          -0.039927    1.000000   \n",
       "avg_training_score                0.075474          -0.039381    0.073963   \n",
       "is_promoted                       0.159320          -0.010670    0.195871   \n",
       "\n",
       "                      avg_training_score  is_promoted  \n",
       "employee_id                    -0.000661     0.001206  \n",
       "no_of_trainings                 0.044430    -0.024896  \n",
       "age                            -0.049500    -0.017166  \n",
       "previous_year_rating            0.075474     0.159320  \n",
       "length_of_service              -0.039381    -0.010670  \n",
       "awards_won                      0.073963     0.195871  \n",
       "avg_training_score              1.000000     0.184386  \n",
       "is_promoted                     0.184386     1.000000  "
      ]
     },
     "execution_count": 4,
     "metadata": {},
     "output_type": "execute_result"
    }
   ],
   "source": [
    "df.corr()"
   ]
  },
  {
   "cell_type": "code",
   "execution_count": 5,
   "id": "b6ffef9b",
   "metadata": {},
   "outputs": [
    {
     "data": {
      "text/plain": [
       "Bachelor's          36669\n",
       "Master's & above    14925\n",
       "Below Secondary       805\n",
       "Name: education, dtype: int64"
      ]
     },
     "execution_count": 5,
     "metadata": {},
     "output_type": "execute_result"
    }
   ],
   "source": [
    "df[\"education\"].value_counts()"
   ]
  },
  {
   "cell_type": "code",
   "execution_count": 6,
   "id": "ca188a80",
   "metadata": {},
   "outputs": [],
   "source": [
    "df[\"education\"]=df[\"education\"].map({\"Bachelor's\":0,\"Master's & above\":1,\"Below Secondary\":2})"
   ]
  },
  {
   "cell_type": "code",
   "execution_count": 7,
   "id": "dd5f7fa0",
   "metadata": {},
   "outputs": [
    {
     "data": {
      "text/plain": [
       "3.0    18618\n",
       "5.0    11741\n",
       "4.0     9877\n",
       "1.0     6223\n",
       "2.0     4225\n",
       "Name: previous_year_rating, dtype: int64"
      ]
     },
     "execution_count": 7,
     "metadata": {},
     "output_type": "execute_result"
    }
   ],
   "source": [
    "df[\"previous_year_rating\"].value_counts()"
   ]
  },
  {
   "cell_type": "code",
   "execution_count": 8,
   "id": "43067a62",
   "metadata": {},
   "outputs": [
    {
     "data": {
      "text/plain": [
       "50.0    2716\n",
       "49.0    2681\n",
       "48.0    2437\n",
       "51.0    2347\n",
       "60.0    2155\n",
       "59.0    2064\n",
       "58.0    1898\n",
       "52.0    1856\n",
       "47.0    1746\n",
       "62.0    1450\n",
       "82.0    1447\n",
       "57.0    1437\n",
       "81.0    1357\n",
       "53.0    1324\n",
       "80.0    1206\n",
       "83.0    1198\n",
       "84.0    1168\n",
       "79.0    1160\n",
       "46.0    1136\n",
       "85.0    1072\n",
       "56.0    1070\n",
       "70.0    1055\n",
       "63.0    1021\n",
       "69.0    1018\n",
       "54.0     997\n",
       "68.0     935\n",
       "78.0     933\n",
       "86.0     912\n",
       "71.0     898\n",
       "55.0     872\n",
       "67.0     728\n",
       "72.0     725\n",
       "64.0     708\n",
       "77.0     697\n",
       "87.0     655\n",
       "65.0     599\n",
       "66.0     580\n",
       "73.0     523\n",
       "76.0     516\n",
       "88.0     444\n",
       "74.0     433\n",
       "75.0     403\n",
       "44.0     335\n",
       "89.0     301\n",
       "90.0     185\n",
       "43.0     176\n",
       "91.0     117\n",
       "92.0      99\n",
       "93.0      84\n",
       "94.0      65\n",
       "42.0      62\n",
       "97.0      49\n",
       "96.0      48\n",
       "95.0      45\n",
       "98.0      37\n",
       "99.0      35\n",
       "41.0      26\n",
       "40.0       5\n",
       "39.0       2\n",
       "Name: avg_training_score, dtype: int64"
      ]
     },
     "execution_count": 8,
     "metadata": {},
     "output_type": "execute_result"
    }
   ],
   "source": [
    "df[\"avg_training_score\"].value_counts()"
   ]
  },
  {
   "cell_type": "code",
   "execution_count": 9,
   "id": "b1163c0d",
   "metadata": {},
   "outputs": [],
   "source": [
    "df[\"education\"].fillna(0,inplace=True)"
   ]
  },
  {
   "cell_type": "code",
   "execution_count": 10,
   "id": "bd7cbf53",
   "metadata": {},
   "outputs": [],
   "source": [
    "df[\"previous_year_rating\"].fillna(df[\"previous_year_rating\"].mean(),inplace=True)"
   ]
  },
  {
   "cell_type": "code",
   "execution_count": 11,
   "id": "80b535c1",
   "metadata": {},
   "outputs": [],
   "source": [
    "df[\"avg_training_score\"].fillna(df[\"avg_training_score\"].mean(),inplace=True)"
   ]
  },
  {
   "cell_type": "code",
   "execution_count": 12,
   "id": "a874761b",
   "metadata": {},
   "outputs": [
    {
     "data": {
      "text/plain": [
       "employee_id             0\n",
       "department              0\n",
       "region                  0\n",
       "education               0\n",
       "gender                  0\n",
       "recruitment_channel     0\n",
       "no_of_trainings         0\n",
       "age                     0\n",
       "previous_year_rating    0\n",
       "length_of_service       0\n",
       "awards_won              0\n",
       "avg_training_score      0\n",
       "is_promoted             0\n",
       "dtype: int64"
      ]
     },
     "execution_count": 12,
     "metadata": {},
     "output_type": "execute_result"
    }
   ],
   "source": [
    "df.isna().sum()"
   ]
  },
  {
   "cell_type": "code",
   "execution_count": 13,
   "id": "c80a59a4",
   "metadata": {},
   "outputs": [
    {
     "data": {
      "text/plain": [
       "0    50140\n",
       "1     4668\n",
       "Name: is_promoted, dtype: int64"
      ]
     },
     "execution_count": 13,
     "metadata": {},
     "output_type": "execute_result"
    }
   ],
   "source": [
    "df[\"is_promoted\"].value_counts()"
   ]
  },
  {
   "cell_type": "code",
   "execution_count": 14,
   "id": "e16797f8",
   "metadata": {},
   "outputs": [
    {
     "data": {
      "text/html": [
       "<div>\n",
       "<style scoped>\n",
       "    .dataframe tbody tr th:only-of-type {\n",
       "        vertical-align: middle;\n",
       "    }\n",
       "\n",
       "    .dataframe tbody tr th {\n",
       "        vertical-align: top;\n",
       "    }\n",
       "\n",
       "    .dataframe thead th {\n",
       "        text-align: right;\n",
       "    }\n",
       "</style>\n",
       "<table border=\"1\" class=\"dataframe\">\n",
       "  <thead>\n",
       "    <tr style=\"text-align: right;\">\n",
       "      <th></th>\n",
       "      <th>employee_id</th>\n",
       "      <th>department</th>\n",
       "      <th>region</th>\n",
       "      <th>education</th>\n",
       "      <th>gender</th>\n",
       "      <th>recruitment_channel</th>\n",
       "      <th>no_of_trainings</th>\n",
       "      <th>age</th>\n",
       "      <th>previous_year_rating</th>\n",
       "      <th>length_of_service</th>\n",
       "      <th>awards_won</th>\n",
       "      <th>avg_training_score</th>\n",
       "      <th>is_promoted</th>\n",
       "    </tr>\n",
       "  </thead>\n",
       "  <tbody>\n",
       "    <tr>\n",
       "      <th>0</th>\n",
       "      <td>65438</td>\n",
       "      <td>Sales &amp; Marketing</td>\n",
       "      <td>region_7</td>\n",
       "      <td>1.0</td>\n",
       "      <td>f</td>\n",
       "      <td>sourcing</td>\n",
       "      <td>1</td>\n",
       "      <td>35</td>\n",
       "      <td>5.0</td>\n",
       "      <td>8</td>\n",
       "      <td>0</td>\n",
       "      <td>49.000000</td>\n",
       "      <td>0</td>\n",
       "    </tr>\n",
       "    <tr>\n",
       "      <th>1</th>\n",
       "      <td>65141</td>\n",
       "      <td>Operations</td>\n",
       "      <td>region_22</td>\n",
       "      <td>0.0</td>\n",
       "      <td>m</td>\n",
       "      <td>other</td>\n",
       "      <td>1</td>\n",
       "      <td>30</td>\n",
       "      <td>5.0</td>\n",
       "      <td>4</td>\n",
       "      <td>0</td>\n",
       "      <td>60.000000</td>\n",
       "      <td>0</td>\n",
       "    </tr>\n",
       "    <tr>\n",
       "      <th>2</th>\n",
       "      <td>7513</td>\n",
       "      <td>Sales &amp; Marketing</td>\n",
       "      <td>region_19</td>\n",
       "      <td>0.0</td>\n",
       "      <td>m</td>\n",
       "      <td>sourcing</td>\n",
       "      <td>1</td>\n",
       "      <td>34</td>\n",
       "      <td>3.0</td>\n",
       "      <td>7</td>\n",
       "      <td>0</td>\n",
       "      <td>50.000000</td>\n",
       "      <td>0</td>\n",
       "    </tr>\n",
       "    <tr>\n",
       "      <th>3</th>\n",
       "      <td>2542</td>\n",
       "      <td>Sales &amp; Marketing</td>\n",
       "      <td>region_23</td>\n",
       "      <td>0.0</td>\n",
       "      <td>m</td>\n",
       "      <td>other</td>\n",
       "      <td>2</td>\n",
       "      <td>39</td>\n",
       "      <td>1.0</td>\n",
       "      <td>10</td>\n",
       "      <td>0</td>\n",
       "      <td>50.000000</td>\n",
       "      <td>0</td>\n",
       "    </tr>\n",
       "    <tr>\n",
       "      <th>4</th>\n",
       "      <td>48945</td>\n",
       "      <td>Technology</td>\n",
       "      <td>region_26</td>\n",
       "      <td>0.0</td>\n",
       "      <td>m</td>\n",
       "      <td>other</td>\n",
       "      <td>1</td>\n",
       "      <td>45</td>\n",
       "      <td>3.0</td>\n",
       "      <td>2</td>\n",
       "      <td>0</td>\n",
       "      <td>73.000000</td>\n",
       "      <td>0</td>\n",
       "    </tr>\n",
       "    <tr>\n",
       "      <th>...</th>\n",
       "      <td>...</td>\n",
       "      <td>...</td>\n",
       "      <td>...</td>\n",
       "      <td>...</td>\n",
       "      <td>...</td>\n",
       "      <td>...</td>\n",
       "      <td>...</td>\n",
       "      <td>...</td>\n",
       "      <td>...</td>\n",
       "      <td>...</td>\n",
       "      <td>...</td>\n",
       "      <td>...</td>\n",
       "      <td>...</td>\n",
       "    </tr>\n",
       "    <tr>\n",
       "      <th>54803</th>\n",
       "      <td>3030</td>\n",
       "      <td>Technology</td>\n",
       "      <td>region_14</td>\n",
       "      <td>0.0</td>\n",
       "      <td>m</td>\n",
       "      <td>sourcing</td>\n",
       "      <td>1</td>\n",
       "      <td>48</td>\n",
       "      <td>3.0</td>\n",
       "      <td>17</td>\n",
       "      <td>0</td>\n",
       "      <td>78.000000</td>\n",
       "      <td>0</td>\n",
       "    </tr>\n",
       "    <tr>\n",
       "      <th>54804</th>\n",
       "      <td>74592</td>\n",
       "      <td>Operations</td>\n",
       "      <td>region_27</td>\n",
       "      <td>1.0</td>\n",
       "      <td>f</td>\n",
       "      <td>other</td>\n",
       "      <td>1</td>\n",
       "      <td>37</td>\n",
       "      <td>2.0</td>\n",
       "      <td>6</td>\n",
       "      <td>0</td>\n",
       "      <td>56.000000</td>\n",
       "      <td>0</td>\n",
       "    </tr>\n",
       "    <tr>\n",
       "      <th>54805</th>\n",
       "      <td>13918</td>\n",
       "      <td>Analytics</td>\n",
       "      <td>region_1</td>\n",
       "      <td>0.0</td>\n",
       "      <td>m</td>\n",
       "      <td>other</td>\n",
       "      <td>1</td>\n",
       "      <td>27</td>\n",
       "      <td>5.0</td>\n",
       "      <td>3</td>\n",
       "      <td>0</td>\n",
       "      <td>79.000000</td>\n",
       "      <td>0</td>\n",
       "    </tr>\n",
       "    <tr>\n",
       "      <th>54806</th>\n",
       "      <td>13614</td>\n",
       "      <td>Sales &amp; Marketing</td>\n",
       "      <td>region_9</td>\n",
       "      <td>0.0</td>\n",
       "      <td>m</td>\n",
       "      <td>sourcing</td>\n",
       "      <td>1</td>\n",
       "      <td>29</td>\n",
       "      <td>1.0</td>\n",
       "      <td>2</td>\n",
       "      <td>0</td>\n",
       "      <td>63.712238</td>\n",
       "      <td>0</td>\n",
       "    </tr>\n",
       "    <tr>\n",
       "      <th>54807</th>\n",
       "      <td>51526</td>\n",
       "      <td>HR</td>\n",
       "      <td>region_22</td>\n",
       "      <td>0.0</td>\n",
       "      <td>m</td>\n",
       "      <td>other</td>\n",
       "      <td>1</td>\n",
       "      <td>27</td>\n",
       "      <td>1.0</td>\n",
       "      <td>5</td>\n",
       "      <td>0</td>\n",
       "      <td>49.000000</td>\n",
       "      <td>0</td>\n",
       "    </tr>\n",
       "  </tbody>\n",
       "</table>\n",
       "<p>54808 rows × 13 columns</p>\n",
       "</div>"
      ],
      "text/plain": [
       "       employee_id         department     region  education gender  \\\n",
       "0            65438  Sales & Marketing   region_7        1.0      f   \n",
       "1            65141         Operations  region_22        0.0      m   \n",
       "2             7513  Sales & Marketing  region_19        0.0      m   \n",
       "3             2542  Sales & Marketing  region_23        0.0      m   \n",
       "4            48945         Technology  region_26        0.0      m   \n",
       "...            ...                ...        ...        ...    ...   \n",
       "54803         3030         Technology  region_14        0.0      m   \n",
       "54804        74592         Operations  region_27        1.0      f   \n",
       "54805        13918          Analytics   region_1        0.0      m   \n",
       "54806        13614  Sales & Marketing   region_9        0.0      m   \n",
       "54807        51526                 HR  region_22        0.0      m   \n",
       "\n",
       "      recruitment_channel  no_of_trainings  age  previous_year_rating  \\\n",
       "0                sourcing                1   35                   5.0   \n",
       "1                   other                1   30                   5.0   \n",
       "2                sourcing                1   34                   3.0   \n",
       "3                   other                2   39                   1.0   \n",
       "4                   other                1   45                   3.0   \n",
       "...                   ...              ...  ...                   ...   \n",
       "54803            sourcing                1   48                   3.0   \n",
       "54804               other                1   37                   2.0   \n",
       "54805               other                1   27                   5.0   \n",
       "54806            sourcing                1   29                   1.0   \n",
       "54807               other                1   27                   1.0   \n",
       "\n",
       "       length_of_service  awards_won  avg_training_score  is_promoted  \n",
       "0                      8           0           49.000000            0  \n",
       "1                      4           0           60.000000            0  \n",
       "2                      7           0           50.000000            0  \n",
       "3                     10           0           50.000000            0  \n",
       "4                      2           0           73.000000            0  \n",
       "...                  ...         ...                 ...          ...  \n",
       "54803                 17           0           78.000000            0  \n",
       "54804                  6           0           56.000000            0  \n",
       "54805                  3           0           79.000000            0  \n",
       "54806                  2           0           63.712238            0  \n",
       "54807                  5           0           49.000000            0  \n",
       "\n",
       "[54808 rows x 13 columns]"
      ]
     },
     "execution_count": 14,
     "metadata": {},
     "output_type": "execute_result"
    }
   ],
   "source": [
    "df1=df.copy()\n",
    "df1"
   ]
  },
  {
   "cell_type": "code",
   "execution_count": 15,
   "id": "96bbdea9",
   "metadata": {},
   "outputs": [
    {
     "data": {
      "text/plain": [
       "0    50000\n",
       "1    50000\n",
       "Name: is_promoted, dtype: int64"
      ]
     },
     "execution_count": 15,
     "metadata": {},
     "output_type": "execute_result"
    }
   ],
   "source": [
    "a=df1[df1[\"is_promoted\"]==0]\n",
    "b=df1[df1[\"is_promoted\"]==1]\n",
    "l=a.sample(n=50000)\n",
    "s=b.sample(n=50000,replace=True)\n",
    "df=pd.concat([s,l],axis=0)\n",
    "df[\"is_promoted\"].value_counts()"
   ]
  },
  {
   "cell_type": "code",
   "execution_count": 16,
   "id": "c4ffa9b6",
   "metadata": {},
   "outputs": [
    {
     "data": {
      "text/plain": [
       "(100000, 13)"
      ]
     },
     "execution_count": 16,
     "metadata": {},
     "output_type": "execute_result"
    }
   ],
   "source": [
    "df.shape"
   ]
  },
  {
   "cell_type": "code",
   "execution_count": 17,
   "id": "80bbd271",
   "metadata": {},
   "outputs": [
    {
     "data": {
      "text/html": [
       "<div>\n",
       "<style scoped>\n",
       "    .dataframe tbody tr th:only-of-type {\n",
       "        vertical-align: middle;\n",
       "    }\n",
       "\n",
       "    .dataframe tbody tr th {\n",
       "        vertical-align: top;\n",
       "    }\n",
       "\n",
       "    .dataframe thead th {\n",
       "        text-align: right;\n",
       "    }\n",
       "</style>\n",
       "<table border=\"1\" class=\"dataframe\">\n",
       "  <thead>\n",
       "    <tr style=\"text-align: right;\">\n",
       "      <th></th>\n",
       "      <th>department</th>\n",
       "      <th>education</th>\n",
       "      <th>no_of_trainings</th>\n",
       "      <th>age</th>\n",
       "      <th>previous_year_rating</th>\n",
       "      <th>length_of_service</th>\n",
       "      <th>awards_won</th>\n",
       "      <th>avg_training_score</th>\n",
       "      <th>is_promoted</th>\n",
       "    </tr>\n",
       "  </thead>\n",
       "  <tbody>\n",
       "    <tr>\n",
       "      <th>49186</th>\n",
       "      <td>Technology</td>\n",
       "      <td>0.0</td>\n",
       "      <td>1</td>\n",
       "      <td>26</td>\n",
       "      <td>3.000000</td>\n",
       "      <td>3</td>\n",
       "      <td>0</td>\n",
       "      <td>73.0</td>\n",
       "      <td>1</td>\n",
       "    </tr>\n",
       "    <tr>\n",
       "      <th>18146</th>\n",
       "      <td>Sales &amp; Marketing</td>\n",
       "      <td>1.0</td>\n",
       "      <td>1</td>\n",
       "      <td>40</td>\n",
       "      <td>5.000000</td>\n",
       "      <td>2</td>\n",
       "      <td>1</td>\n",
       "      <td>90.0</td>\n",
       "      <td>1</td>\n",
       "    </tr>\n",
       "    <tr>\n",
       "      <th>8887</th>\n",
       "      <td>Sales &amp; Marketing</td>\n",
       "      <td>0.0</td>\n",
       "      <td>2</td>\n",
       "      <td>30</td>\n",
       "      <td>3.000000</td>\n",
       "      <td>5</td>\n",
       "      <td>0</td>\n",
       "      <td>51.0</td>\n",
       "      <td>1</td>\n",
       "    </tr>\n",
       "    <tr>\n",
       "      <th>28275</th>\n",
       "      <td>Procurement</td>\n",
       "      <td>1.0</td>\n",
       "      <td>1</td>\n",
       "      <td>33</td>\n",
       "      <td>5.000000</td>\n",
       "      <td>2</td>\n",
       "      <td>1</td>\n",
       "      <td>91.0</td>\n",
       "      <td>1</td>\n",
       "    </tr>\n",
       "    <tr>\n",
       "      <th>19970</th>\n",
       "      <td>Analytics</td>\n",
       "      <td>0.0</td>\n",
       "      <td>1</td>\n",
       "      <td>29</td>\n",
       "      <td>5.000000</td>\n",
       "      <td>5</td>\n",
       "      <td>0</td>\n",
       "      <td>90.0</td>\n",
       "      <td>1</td>\n",
       "    </tr>\n",
       "    <tr>\n",
       "      <th>...</th>\n",
       "      <td>...</td>\n",
       "      <td>...</td>\n",
       "      <td>...</td>\n",
       "      <td>...</td>\n",
       "      <td>...</td>\n",
       "      <td>...</td>\n",
       "      <td>...</td>\n",
       "      <td>...</td>\n",
       "      <td>...</td>\n",
       "    </tr>\n",
       "    <tr>\n",
       "      <th>40136</th>\n",
       "      <td>Sales &amp; Marketing</td>\n",
       "      <td>0.0</td>\n",
       "      <td>3</td>\n",
       "      <td>29</td>\n",
       "      <td>3.329256</td>\n",
       "      <td>1</td>\n",
       "      <td>0</td>\n",
       "      <td>49.0</td>\n",
       "      <td>0</td>\n",
       "    </tr>\n",
       "    <tr>\n",
       "      <th>11402</th>\n",
       "      <td>Technology</td>\n",
       "      <td>1.0</td>\n",
       "      <td>1</td>\n",
       "      <td>42</td>\n",
       "      <td>2.000000</td>\n",
       "      <td>7</td>\n",
       "      <td>0</td>\n",
       "      <td>81.0</td>\n",
       "      <td>0</td>\n",
       "    </tr>\n",
       "    <tr>\n",
       "      <th>20297</th>\n",
       "      <td>Finance</td>\n",
       "      <td>0.0</td>\n",
       "      <td>1</td>\n",
       "      <td>30</td>\n",
       "      <td>4.000000</td>\n",
       "      <td>5</td>\n",
       "      <td>0</td>\n",
       "      <td>63.0</td>\n",
       "      <td>0</td>\n",
       "    </tr>\n",
       "    <tr>\n",
       "      <th>40607</th>\n",
       "      <td>Technology</td>\n",
       "      <td>1.0</td>\n",
       "      <td>1</td>\n",
       "      <td>43</td>\n",
       "      <td>3.000000</td>\n",
       "      <td>6</td>\n",
       "      <td>0</td>\n",
       "      <td>81.0</td>\n",
       "      <td>0</td>\n",
       "    </tr>\n",
       "    <tr>\n",
       "      <th>10033</th>\n",
       "      <td>Sales &amp; Marketing</td>\n",
       "      <td>1.0</td>\n",
       "      <td>1</td>\n",
       "      <td>38</td>\n",
       "      <td>3.000000</td>\n",
       "      <td>7</td>\n",
       "      <td>0</td>\n",
       "      <td>52.0</td>\n",
       "      <td>0</td>\n",
       "    </tr>\n",
       "  </tbody>\n",
       "</table>\n",
       "<p>100000 rows × 9 columns</p>\n",
       "</div>"
      ],
      "text/plain": [
       "              department  education  no_of_trainings  age  \\\n",
       "49186         Technology        0.0                1   26   \n",
       "18146  Sales & Marketing        1.0                1   40   \n",
       "8887   Sales & Marketing        0.0                2   30   \n",
       "28275        Procurement        1.0                1   33   \n",
       "19970          Analytics        0.0                1   29   \n",
       "...                  ...        ...              ...  ...   \n",
       "40136  Sales & Marketing        0.0                3   29   \n",
       "11402         Technology        1.0                1   42   \n",
       "20297            Finance        0.0                1   30   \n",
       "40607         Technology        1.0                1   43   \n",
       "10033  Sales & Marketing        1.0                1   38   \n",
       "\n",
       "       previous_year_rating  length_of_service  awards_won  \\\n",
       "49186              3.000000                  3           0   \n",
       "18146              5.000000                  2           1   \n",
       "8887               3.000000                  5           0   \n",
       "28275              5.000000                  2           1   \n",
       "19970              5.000000                  5           0   \n",
       "...                     ...                ...         ...   \n",
       "40136              3.329256                  1           0   \n",
       "11402              2.000000                  7           0   \n",
       "20297              4.000000                  5           0   \n",
       "40607              3.000000                  6           0   \n",
       "10033              3.000000                  7           0   \n",
       "\n",
       "       avg_training_score  is_promoted  \n",
       "49186                73.0            1  \n",
       "18146                90.0            1  \n",
       "8887                 51.0            1  \n",
       "28275                91.0            1  \n",
       "19970                90.0            1  \n",
       "...                   ...          ...  \n",
       "40136                49.0            0  \n",
       "11402                81.0            0  \n",
       "20297                63.0            0  \n",
       "40607                81.0            0  \n",
       "10033                52.0            0  \n",
       "\n",
       "[100000 rows x 9 columns]"
      ]
     },
     "execution_count": 17,
     "metadata": {},
     "output_type": "execute_result"
    }
   ],
   "source": [
    "columns=[\"employee_id\",\"region\",\"gender\",\"recruitment_channel\"]\n",
    "df.drop(columns,axis=1,inplace=True)\n",
    "df"
   ]
  },
  {
   "cell_type": "code",
   "execution_count": 18,
   "id": "afea1aa5",
   "metadata": {},
   "outputs": [
    {
     "data": {
      "text/html": [
       "<div>\n",
       "<style scoped>\n",
       "    .dataframe tbody tr th:only-of-type {\n",
       "        vertical-align: middle;\n",
       "    }\n",
       "\n",
       "    .dataframe tbody tr th {\n",
       "        vertical-align: top;\n",
       "    }\n",
       "\n",
       "    .dataframe thead th {\n",
       "        text-align: right;\n",
       "    }\n",
       "</style>\n",
       "<table border=\"1\" class=\"dataframe\">\n",
       "  <thead>\n",
       "    <tr style=\"text-align: right;\">\n",
       "      <th></th>\n",
       "      <th>education</th>\n",
       "      <th>no_of_trainings</th>\n",
       "      <th>age</th>\n",
       "      <th>previous_year_rating</th>\n",
       "      <th>length_of_service</th>\n",
       "      <th>awards_won</th>\n",
       "      <th>avg_training_score</th>\n",
       "      <th>is_promoted</th>\n",
       "    </tr>\n",
       "  </thead>\n",
       "  <tbody>\n",
       "    <tr>\n",
       "      <th>education</th>\n",
       "      <td>1.000000</td>\n",
       "      <td>-0.030316</td>\n",
       "      <td>0.269504</td>\n",
       "      <td>0.028961</td>\n",
       "      <td>0.180758</td>\n",
       "      <td>0.002627</td>\n",
       "      <td>0.040977</td>\n",
       "      <td>0.047166</td>\n",
       "    </tr>\n",
       "    <tr>\n",
       "      <th>no_of_trainings</th>\n",
       "      <td>-0.030316</td>\n",
       "      <td>1.000000</td>\n",
       "      <td>-0.074315</td>\n",
       "      <td>-0.053580</td>\n",
       "      <td>-0.047193</td>\n",
       "      <td>-0.024195</td>\n",
       "      <td>0.042107</td>\n",
       "      <td>-0.050979</td>\n",
       "    </tr>\n",
       "    <tr>\n",
       "      <th>age</th>\n",
       "      <td>0.269504</td>\n",
       "      <td>-0.074315</td>\n",
       "      <td>1.000000</td>\n",
       "      <td>0.020259</td>\n",
       "      <td>0.655847</td>\n",
       "      <td>-0.002915</td>\n",
       "      <td>-0.054833</td>\n",
       "      <td>-0.031518</td>\n",
       "    </tr>\n",
       "    <tr>\n",
       "      <th>previous_year_rating</th>\n",
       "      <td>0.028961</td>\n",
       "      <td>-0.053580</td>\n",
       "      <td>0.020259</td>\n",
       "      <td>1.000000</td>\n",
       "      <td>0.012173</td>\n",
       "      <td>0.061058</td>\n",
       "      <td>0.117780</td>\n",
       "      <td>0.283377</td>\n",
       "    </tr>\n",
       "    <tr>\n",
       "      <th>length_of_service</th>\n",
       "      <td>0.180758</td>\n",
       "      <td>-0.047193</td>\n",
       "      <td>0.655847</td>\n",
       "      <td>0.012173</td>\n",
       "      <td>1.000000</td>\n",
       "      <td>-0.061685</td>\n",
       "      <td>-0.039132</td>\n",
       "      <td>-0.018988</td>\n",
       "    </tr>\n",
       "    <tr>\n",
       "      <th>awards_won</th>\n",
       "      <td>0.002627</td>\n",
       "      <td>-0.024195</td>\n",
       "      <td>-0.002915</td>\n",
       "      <td>0.061058</td>\n",
       "      <td>-0.061685</td>\n",
       "      <td>1.000000</td>\n",
       "      <td>0.179009</td>\n",
       "      <td>0.212093</td>\n",
       "    </tr>\n",
       "    <tr>\n",
       "      <th>avg_training_score</th>\n",
       "      <td>0.040977</td>\n",
       "      <td>0.042107</td>\n",
       "      <td>-0.054833</td>\n",
       "      <td>0.117780</td>\n",
       "      <td>-0.039132</td>\n",
       "      <td>0.179009</td>\n",
       "      <td>1.000000</td>\n",
       "      <td>0.295188</td>\n",
       "    </tr>\n",
       "    <tr>\n",
       "      <th>is_promoted</th>\n",
       "      <td>0.047166</td>\n",
       "      <td>-0.050979</td>\n",
       "      <td>-0.031518</td>\n",
       "      <td>0.283377</td>\n",
       "      <td>-0.018988</td>\n",
       "      <td>0.212093</td>\n",
       "      <td>0.295188</td>\n",
       "      <td>1.000000</td>\n",
       "    </tr>\n",
       "  </tbody>\n",
       "</table>\n",
       "</div>"
      ],
      "text/plain": [
       "                      education  no_of_trainings       age  \\\n",
       "education              1.000000        -0.030316  0.269504   \n",
       "no_of_trainings       -0.030316         1.000000 -0.074315   \n",
       "age                    0.269504        -0.074315  1.000000   \n",
       "previous_year_rating   0.028961        -0.053580  0.020259   \n",
       "length_of_service      0.180758        -0.047193  0.655847   \n",
       "awards_won             0.002627        -0.024195 -0.002915   \n",
       "avg_training_score     0.040977         0.042107 -0.054833   \n",
       "is_promoted            0.047166        -0.050979 -0.031518   \n",
       "\n",
       "                      previous_year_rating  length_of_service  awards_won  \\\n",
       "education                         0.028961           0.180758    0.002627   \n",
       "no_of_trainings                  -0.053580          -0.047193   -0.024195   \n",
       "age                               0.020259           0.655847   -0.002915   \n",
       "previous_year_rating              1.000000           0.012173    0.061058   \n",
       "length_of_service                 0.012173           1.000000   -0.061685   \n",
       "awards_won                        0.061058          -0.061685    1.000000   \n",
       "avg_training_score                0.117780          -0.039132    0.179009   \n",
       "is_promoted                       0.283377          -0.018988    0.212093   \n",
       "\n",
       "                      avg_training_score  is_promoted  \n",
       "education                       0.040977     0.047166  \n",
       "no_of_trainings                 0.042107    -0.050979  \n",
       "age                            -0.054833    -0.031518  \n",
       "previous_year_rating            0.117780     0.283377  \n",
       "length_of_service              -0.039132    -0.018988  \n",
       "awards_won                      0.179009     0.212093  \n",
       "avg_training_score              1.000000     0.295188  \n",
       "is_promoted                     0.295188     1.000000  "
      ]
     },
     "execution_count": 18,
     "metadata": {},
     "output_type": "execute_result"
    }
   ],
   "source": [
    "df.corr()"
   ]
  },
  {
   "cell_type": "code",
   "execution_count": 19,
   "id": "3d42961d",
   "metadata": {},
   "outputs": [
    {
     "name": "stdout",
     "output_type": "stream",
     "text": [
      "(70000, 5)\n",
      "(70000,)\n",
      "(30000, 5)\n",
      "(30000,)\n"
     ]
    }
   ],
   "source": [
    "from sklearn.model_selection import train_test_split\n",
    "cols=[\"avg_training_score\",\"awards_won\",\"previous_year_rating\",\"no_of_trainings\",\"education\"]\n",
    "X=df[cols]\n",
    "Y=df[\"is_promoted\"]\n",
    "X_train,X_test,Y_train,Y_test=train_test_split(X,Y,test_size=0.3,random_state=1)\n",
    "print(X_train.shape)\n",
    "print(Y_train.shape)\n",
    "print(X_test.shape)\n",
    "print(Y_test.shape)"
   ]
  },
  {
   "cell_type": "markdown",
   "id": "9de88234",
   "metadata": {},
   "source": [
    "### Decision Tree "
   ]
  },
  {
   "cell_type": "code",
   "execution_count": 20,
   "id": "e22297ae",
   "metadata": {},
   "outputs": [
    {
     "data": {
      "text/plain": [
       "0    16047\n",
       "1    13953\n",
       "dtype: int64"
      ]
     },
     "execution_count": 20,
     "metadata": {},
     "output_type": "execute_result"
    }
   ],
   "source": [
    "from sklearn.tree import DecisionTreeClassifier\n",
    "model=DecisionTreeClassifier()\n",
    "model.fit(X_train,Y_train)\n",
    "Y_pred=model.predict(X_test)\n",
    "d=pd.DataFrame(Y_pred)\n",
    "d.value_counts()"
   ]
  },
  {
   "cell_type": "code",
   "execution_count": 21,
   "id": "a90a0d91",
   "metadata": {},
   "outputs": [
    {
     "name": "stdout",
     "output_type": "stream",
     "text": [
      "Accuracy :  0.7072666666666667\n",
      "Confusion Matrix : \n",
      " [[11076  3811]\n",
      " [ 4971 10142]]\n"
     ]
    }
   ],
   "source": [
    "from sklearn.metrics import confusion_matrix,accuracy_score\n",
    "print(\"Accuracy : \",accuracy_score(Y_test,Y_pred))\n",
    "print(\"Confusion Matrix : \\n\",confusion_matrix(Y_test,Y_pred))"
   ]
  },
  {
   "cell_type": "markdown",
   "id": "a3f67d4e",
   "metadata": {},
   "source": [
    "### Naive Bayes Classifier "
   ]
  },
  {
   "cell_type": "code",
   "execution_count": 22,
   "id": "4e062ec5",
   "metadata": {},
   "outputs": [
    {
     "data": {
      "text/plain": [
       "0    23436\n",
       "1     6564\n",
       "dtype: int64"
      ]
     },
     "execution_count": 22,
     "metadata": {},
     "output_type": "execute_result"
    }
   ],
   "source": [
    "from sklearn.naive_bayes import GaussianNB\n",
    "model=GaussianNB()\n",
    "model.fit(X_train,Y_train)\n",
    "Y_pred=model.predict(X_test)\n",
    "n=pd.DataFrame(Y_pred)\n",
    "n.value_counts()"
   ]
  },
  {
   "cell_type": "code",
   "execution_count": 23,
   "id": "bd7af8a3",
   "metadata": {},
   "outputs": [
    {
     "name": "stdout",
     "output_type": "stream",
     "text": [
      "Accuracy :  0.6304333333333333\n",
      "Confusion Matrix : \n",
      " [[13618  1269]\n",
      " [ 9818  5295]]\n"
     ]
    }
   ],
   "source": [
    "print(\"Accuracy : \",accuracy_score(Y_test,Y_pred))\n",
    "print(\"Confusion Matrix : \\n\",confusion_matrix(Y_test,Y_pred))"
   ]
  },
  {
   "cell_type": "markdown",
   "id": "6319f635",
   "metadata": {},
   "source": [
    "### MultiLayer Perceptron"
   ]
  },
  {
   "cell_type": "code",
   "execution_count": 24,
   "id": "73e2d38d",
   "metadata": {},
   "outputs": [
    {
     "data": {
      "text/plain": [
       "1    19677\n",
       "0    10323\n",
       "dtype: int64"
      ]
     },
     "execution_count": 24,
     "metadata": {},
     "output_type": "execute_result"
    }
   ],
   "source": [
    "from sklearn.neural_network import MLPClassifier\n",
    "model=MLPClassifier(hidden_layer_sizes=(3,3),random_state=1,learning_rate_init=0.01)\n",
    "model.fit(X_train,Y_train)\n",
    "Y_pred=model.predict(X_test)\n",
    "m=pd.DataFrame(Y_pred)\n",
    "m.value_counts()"
   ]
  },
  {
   "cell_type": "code",
   "execution_count": 25,
   "id": "2fc13ae8",
   "metadata": {},
   "outputs": [
    {
     "name": "stdout",
     "output_type": "stream",
     "text": [
      "Accuracy :  0.6432666666666667\n",
      "Confusion Matrix : \n",
      " [[ 7254  7633]\n",
      " [ 3069 12044]]\n"
     ]
    }
   ],
   "source": [
    "print(\"Accuracy : \",accuracy_score(Y_test,Y_pred))\n",
    "print(\"Confusion Matrix : \\n\",confusion_matrix(Y_test,Y_pred))"
   ]
  },
  {
   "cell_type": "markdown",
   "id": "75845b62",
   "metadata": {},
   "source": [
    "## Boosting"
   ]
  },
  {
   "cell_type": "markdown",
   "id": "c4a58b02",
   "metadata": {},
   "source": [
    "### Adaboost "
   ]
  },
  {
   "cell_type": "code",
   "execution_count": 26,
   "id": "f5d0dc07",
   "metadata": {},
   "outputs": [
    {
     "data": {
      "text/plain": [
       "0    16105\n",
       "1    13895\n",
       "dtype: int64"
      ]
     },
     "execution_count": 26,
     "metadata": {},
     "output_type": "execute_result"
    }
   ],
   "source": [
    "from sklearn.ensemble import AdaBoostClassifier\n",
    "model=AdaBoostClassifier()\n",
    "model.fit(X_train,Y_train)\n",
    "Y_pred=model.predict(X_test)\n",
    "b=pd.DataFrame(Y_pred)\n",
    "b.value_counts()"
   ]
  },
  {
   "cell_type": "code",
   "execution_count": 27,
   "id": "6ff1288b",
   "metadata": {},
   "outputs": [
    {
     "name": "stdout",
     "output_type": "stream",
     "text": [
      "Accuracy :  0.6735333333333333\n",
      "Confusion Matrix : \n",
      " [[10599  4288]\n",
      " [ 5506  9607]]\n"
     ]
    }
   ],
   "source": [
    "print(\"Accuracy : \",accuracy_score(Y_test,Y_pred))\n",
    "print(\"Confusion Matrix : \\n\",confusion_matrix(Y_test,Y_pred))"
   ]
  },
  {
   "cell_type": "markdown",
   "id": "743ded85",
   "metadata": {},
   "source": [
    "#### Adaboost with Decision tree as base classifier"
   ]
  },
  {
   "cell_type": "code",
   "execution_count": 28,
   "id": "4ef0f313",
   "metadata": {},
   "outputs": [
    {
     "data": {
      "text/plain": [
       "0    16061\n",
       "1    13939\n",
       "dtype: int64"
      ]
     },
     "execution_count": 28,
     "metadata": {},
     "output_type": "execute_result"
    }
   ],
   "source": [
    "dtc=DecisionTreeClassifier()\n",
    "adb_model2=AdaBoostClassifier(n_estimators=100,base_estimator=dtc,learning_rate=0.01)\n",
    "adb_model2.fit(X_train,Y_train)\n",
    "dtc_pred=adb_model2.predict(X_test)\n",
    "abd=pd.DataFrame(dtc_pred)\n",
    "abd.value_counts()"
   ]
  },
  {
   "cell_type": "code",
   "execution_count": 29,
   "id": "02aff5b3",
   "metadata": {},
   "outputs": [
    {
     "name": "stdout",
     "output_type": "stream",
     "text": [
      "Accuracy :  0.7077333333333333\n",
      "Confusion Matrix : \n",
      " [[11090  3797]\n",
      " [ 4971 10142]]\n"
     ]
    }
   ],
   "source": [
    "print(\"Accuracy : \",accuracy_score(Y_test,dtc_pred))\n",
    "print(\"Confusion Matrix : \\n\",confusion_matrix(Y_test,dtc_pred))"
   ]
  },
  {
   "cell_type": "markdown",
   "id": "d1ae1d4b",
   "metadata": {},
   "source": [
    "#### Adaboost with Naive Bayes classifier base classifier"
   ]
  },
  {
   "cell_type": "code",
   "execution_count": 30,
   "id": "808b666e",
   "metadata": {},
   "outputs": [
    {
     "data": {
      "text/plain": [
       "0    16128\n",
       "1    13872\n",
       "dtype: int64"
      ]
     },
     "execution_count": 30,
     "metadata": {},
     "output_type": "execute_result"
    }
   ],
   "source": [
    "nb_model=GaussianNB()\n",
    "adb_model3=AdaBoostClassifier(n_estimators=100,base_estimator=nb_model,learning_rate=0.01)\n",
    "adb_model3.fit(X_train,Y_train)\n",
    "nb_pred=adb_model3.predict(X_test)\n",
    "nbd=pd.DataFrame(nb_pred)\n",
    "nbd.value_counts()"
   ]
  },
  {
   "cell_type": "code",
   "execution_count": 31,
   "id": "789cca5f",
   "metadata": {},
   "outputs": [
    {
     "name": "stdout",
     "output_type": "stream",
     "text": [
      "\n",
      "Accuracy :  0.6631\n",
      "Confusion Matrix : \n",
      " [[10454  4433]\n",
      " [ 5674  9439]]\n"
     ]
    }
   ],
   "source": [
    "print(\"\\nAccuracy : \", accuracy_score(Y_test,nb_pred))\n",
    "print(\"Confusion Matrix : \\n\", confusion_matrix(Y_test,nb_pred))"
   ]
  },
  {
   "cell_type": "markdown",
   "id": "a8101c86",
   "metadata": {},
   "source": [
    "### Bagging Technique(Random Forest) "
   ]
  },
  {
   "cell_type": "code",
   "execution_count": 32,
   "id": "0ac13e76",
   "metadata": {},
   "outputs": [
    {
     "data": {
      "text/plain": [
       "0    15929\n",
       "1    14071\n",
       "dtype: int64"
      ]
     },
     "execution_count": 32,
     "metadata": {},
     "output_type": "execute_result"
    }
   ],
   "source": [
    "from sklearn.ensemble import RandomForestClassifier\n",
    "model=RandomForestClassifier()\n",
    "model.fit(X_train,Y_train)\n",
    "Y_pred=model.predict(X_test)\n",
    "rf=pd.DataFrame(Y_pred)\n",
    "rf.value_counts()"
   ]
  },
  {
   "cell_type": "code",
   "execution_count": 33,
   "id": "b63de610",
   "metadata": {},
   "outputs": [
    {
     "name": "stdout",
     "output_type": "stream",
     "text": [
      "Accuracy :  0.7076666666666667\n",
      "Confusion Matrix : \n",
      " [[11023  3864]\n",
      " [ 4906 10207]]\n"
     ]
    }
   ],
   "source": [
    "print(\"Accuracy : \",accuracy_score(Y_test,Y_pred))\n",
    "print(\"Confusion Matrix : \\n\",confusion_matrix(Y_test,Y_pred))"
   ]
  },
  {
   "cell_type": "code",
   "execution_count": 34,
   "id": "22c4fb8b",
   "metadata": {},
   "outputs": [
    {
     "name": "stdout",
     "output_type": "stream",
     "text": [
      "Requirement already satisfied: imblearn in c:\\users\\sai kavya\\desktop\\lib\\site-packages (0.0)\n",
      "Requirement already satisfied: imbalanced-learn in c:\\users\\sai kavya\\desktop\\lib\\site-packages (from imblearn) (0.8.1)\n",
      "Requirement already satisfied: numpy>=1.13.3 in c:\\users\\sai kavya\\desktop\\lib\\site-packages (from imbalanced-learn->imblearn) (1.20.1)\n",
      "Requirement already satisfied: scipy>=0.19.1 in c:\\users\\sai kavya\\desktop\\lib\\site-packages (from imbalanced-learn->imblearn) (1.6.2)\n",
      "Requirement already satisfied: scikit-learn>=0.24 in c:\\users\\sai kavya\\desktop\\lib\\site-packages (from imbalanced-learn->imblearn) (0.24.1)\n",
      "Requirement already satisfied: joblib>=0.11 in c:\\users\\sai kavya\\desktop\\lib\\site-packages (from imbalanced-learn->imblearn) (1.0.1)\n",
      "Requirement already satisfied: threadpoolctl>=2.0.0 in c:\\users\\sai kavya\\desktop\\lib\\site-packages (from scikit-learn>=0.24->imbalanced-learn->imblearn) (2.1.0)\n",
      "Requirement already satisfied: SMOTE in c:\\users\\sai kavya\\desktop\\lib\\site-packages (0.1)\n",
      "Requirement already satisfied: scikit-learn>=0.19.1 in c:\\users\\sai kavya\\desktop\\lib\\site-packages (from SMOTE) (0.24.1)\n",
      "Requirement already satisfied: numpy>=1.14.3 in c:\\users\\sai kavya\\desktop\\lib\\site-packages (from SMOTE) (1.20.1)\n",
      "Requirement already satisfied: threadpoolctl>=2.0.0 in c:\\users\\sai kavya\\desktop\\lib\\site-packages (from scikit-learn>=0.19.1->SMOTE) (2.1.0)\n",
      "Requirement already satisfied: scipy>=0.19.1 in c:\\users\\sai kavya\\desktop\\lib\\site-packages (from scikit-learn>=0.19.1->SMOTE) (1.6.2)\n",
      "Requirement already satisfied: joblib>=0.11 in c:\\users\\sai kavya\\desktop\\lib\\site-packages (from scikit-learn>=0.19.1->SMOTE) (1.0.1)\n"
     ]
    }
   ],
   "source": [
    "!pip install imblearn\n",
    "!pip install SMOTE"
   ]
  },
  {
   "cell_type": "markdown",
   "id": "018e0c5a",
   "metadata": {},
   "source": [
    "#### SMOTE "
   ]
  },
  {
   "cell_type": "code",
   "execution_count": 35,
   "id": "d7d149e8",
   "metadata": {},
   "outputs": [],
   "source": [
    "from imblearn.over_sampling import SMOTE\n",
    "smt=SMOTE()\n",
    "X_train_new,Y_train_new=smt.fit_resample(X_train,Y_train)"
   ]
  },
  {
   "cell_type": "code",
   "execution_count": 36,
   "id": "6b85ad56",
   "metadata": {},
   "outputs": [
    {
     "data": {
      "text/plain": [
       "0    15997\n",
       "1    14003\n",
       "dtype: int64"
      ]
     },
     "execution_count": 36,
     "metadata": {},
     "output_type": "execute_result"
    }
   ],
   "source": [
    "model=DecisionTreeClassifier()\n",
    "model.fit(X_train_new,Y_train_new)\n",
    "Y_pred=model.predict(X_test)\n",
    "d=pd.DataFrame(Y_pred)\n",
    "d.value_counts()"
   ]
  },
  {
   "cell_type": "code",
   "execution_count": 37,
   "id": "15710adc",
   "metadata": {},
   "outputs": [
    {
     "name": "stdout",
     "output_type": "stream",
     "text": [
      "Accuracy :  0.7072\n",
      "Confusion Matrix : \n",
      " [[11050  3837]\n",
      " [ 4947 10166]]\n"
     ]
    }
   ],
   "source": [
    "print(\"Accuracy : \",accuracy_score(Y_test,Y_pred))\n",
    "print(\"Confusion Matrix : \\n\",confusion_matrix(Y_test,Y_pred))"
   ]
  },
  {
   "cell_type": "code",
   "execution_count": 38,
   "id": "0b568492",
   "metadata": {},
   "outputs": [
    {
     "data": {
      "text/plain": [
       "0    23400\n",
       "1     6600\n",
       "dtype: int64"
      ]
     },
     "execution_count": 38,
     "metadata": {},
     "output_type": "execute_result"
    }
   ],
   "source": [
    "\n",
    "model=GaussianNB()\n",
    "model.fit(X_train_new,Y_train_new)\n",
    "Y_pred=model.predict(X_test)\n",
    "n=pd.DataFrame(Y_pred)\n",
    "n.value_counts()"
   ]
  },
  {
   "cell_type": "code",
   "execution_count": 39,
   "id": "c9a0d3f7",
   "metadata": {},
   "outputs": [
    {
     "name": "stdout",
     "output_type": "stream",
     "text": [
      "Accuracy :  0.6305666666666667\n",
      "Confusion Matrix : \n",
      " [[13602  1285]\n",
      " [ 9798  5315]]\n"
     ]
    }
   ],
   "source": [
    "print(\"Accuracy : \",accuracy_score(Y_test,Y_pred))\n",
    "print(\"Confusion Matrix : \\n\",confusion_matrix(Y_test,Y_pred))"
   ]
  },
  {
   "cell_type": "code",
   "execution_count": 40,
   "id": "18d52f34",
   "metadata": {},
   "outputs": [
    {
     "data": {
      "text/plain": [
       "0    17848\n",
       "1    12152\n",
       "dtype: int64"
      ]
     },
     "execution_count": 40,
     "metadata": {},
     "output_type": "execute_result"
    }
   ],
   "source": [
    "\n",
    "model=MLPClassifier(hidden_layer_sizes=(3,3),random_state=1,learning_rate_init=0.01)\n",
    "model.fit(X_train_new,Y_train_new)\n",
    "Y_pred=model.predict(X_test)\n",
    "m=pd.DataFrame(Y_pred)\n",
    "m.value_counts()"
   ]
  },
  {
   "cell_type": "code",
   "execution_count": 41,
   "id": "b4ae931d",
   "metadata": {},
   "outputs": [
    {
     "name": "stdout",
     "output_type": "stream",
     "text": [
      "Accuracy :  0.6725666666666666\n",
      "Confusion Matrix : \n",
      " [[11456  3431]\n",
      " [ 6392  8721]]\n"
     ]
    }
   ],
   "source": [
    "print(\"Accuracy : \",accuracy_score(Y_test,Y_pred))\n",
    "print(\"Confusion Matrix : \\n\",confusion_matrix(Y_test,Y_pred))"
   ]
  },
  {
   "cell_type": "code",
   "execution_count": 42,
   "id": "9a3928d5",
   "metadata": {},
   "outputs": [
    {
     "data": {
      "text/plain": [
       "0    16105\n",
       "1    13895\n",
       "dtype: int64"
      ]
     },
     "execution_count": 42,
     "metadata": {},
     "output_type": "execute_result"
    }
   ],
   "source": [
    "model=AdaBoostClassifier()\n",
    "model.fit(X_train_new,Y_train_new)\n",
    "Y_pred=model.predict(X_test)\n",
    "b=pd.DataFrame(Y_pred)\n",
    "b.value_counts()"
   ]
  },
  {
   "cell_type": "code",
   "execution_count": 43,
   "id": "9989a3ff",
   "metadata": {},
   "outputs": [
    {
     "name": "stdout",
     "output_type": "stream",
     "text": [
      "Accuracy :  0.6735333333333333\n",
      "Confusion Matrix : \n",
      " [[10599  4288]\n",
      " [ 5506  9607]]\n"
     ]
    }
   ],
   "source": [
    "print(\"Accuracy : \",accuracy_score(Y_test,Y_pred))\n",
    "print(\"Confusion Matrix : \\n\",confusion_matrix(Y_test,Y_pred))"
   ]
  },
  {
   "cell_type": "code",
   "execution_count": 44,
   "id": "f25178fa",
   "metadata": {},
   "outputs": [
    {
     "data": {
      "text/plain": [
       "0    16005\n",
       "1    13995\n",
       "dtype: int64"
      ]
     },
     "execution_count": 44,
     "metadata": {},
     "output_type": "execute_result"
    }
   ],
   "source": [
    "dtc=DecisionTreeClassifier()\n",
    "adb_model2=AdaBoostClassifier(n_estimators=100,base_estimator=dtc,learning_rate=0.01)\n",
    "adb_model2.fit(X_train_new,Y_train_new)\n",
    "dtc_pred=adb_model2.predict(X_test)\n",
    "abd=pd.DataFrame(dtc_pred)\n",
    "abd.value_counts()"
   ]
  },
  {
   "cell_type": "code",
   "execution_count": 45,
   "id": "7fa18d96",
   "metadata": {},
   "outputs": [
    {
     "name": "stdout",
     "output_type": "stream",
     "text": [
      "Accuracy :  0.7074666666666667\n",
      "Confusion Matrix : \n",
      " [[11058  3829]\n",
      " [ 4947 10166]]\n"
     ]
    }
   ],
   "source": [
    "print(\"Accuracy : \",accuracy_score(Y_test,dtc_pred))\n",
    "print(\"Confusion Matrix : \\n\",confusion_matrix(Y_test,dtc_pred))"
   ]
  },
  {
   "cell_type": "code",
   "execution_count": 46,
   "id": "cc6dcacc",
   "metadata": {},
   "outputs": [
    {
     "data": {
      "text/plain": [
       "0    16065\n",
       "1    13935\n",
       "dtype: int64"
      ]
     },
     "execution_count": 46,
     "metadata": {},
     "output_type": "execute_result"
    }
   ],
   "source": [
    "nb_model=GaussianNB()\n",
    "adb_model3=AdaBoostClassifier(n_estimators=100,base_estimator=nb_model,learning_rate=0.01)\n",
    "adb_model3.fit(X_train_new,Y_train_new)\n",
    "nb_pred=adb_model3.predict(X_test)\n",
    "nbd=pd.DataFrame(nb_pred)\n",
    "nbd.value_counts()"
   ]
  },
  {
   "cell_type": "code",
   "execution_count": 47,
   "id": "c6734870",
   "metadata": {},
   "outputs": [
    {
     "name": "stdout",
     "output_type": "stream",
     "text": [
      "\n",
      "Accuracy :  0.6634\n",
      "Confusion Matrix : \n",
      " [[10427  4460]\n",
      " [ 5638  9475]]\n"
     ]
    }
   ],
   "source": [
    "print(\"\\nAccuracy : \", accuracy_score(Y_test,nb_pred))\n",
    "print(\"Confusion Matrix : \\n\", confusion_matrix(Y_test,nb_pred))"
   ]
  },
  {
   "cell_type": "code",
   "execution_count": 48,
   "id": "f77066d3",
   "metadata": {},
   "outputs": [
    {
     "data": {
      "text/plain": [
       "0    15910\n",
       "1    14090\n",
       "dtype: int64"
      ]
     },
     "execution_count": 48,
     "metadata": {},
     "output_type": "execute_result"
    }
   ],
   "source": [
    "model=RandomForestClassifier()\n",
    "model.fit(X_train_new,Y_train_new)\n",
    "Y_pred=model.predict(X_test)\n",
    "rf=pd.DataFrame(Y_pred)\n",
    "rf.value_counts()"
   ]
  },
  {
   "cell_type": "code",
   "execution_count": 49,
   "id": "4031ca71",
   "metadata": {},
   "outputs": [
    {
     "name": "stdout",
     "output_type": "stream",
     "text": [
      "Accuracy :  0.7069666666666666\n",
      "Confusion Matrix : \n",
      " [[11003  3884]\n",
      " [ 4907 10206]]\n"
     ]
    }
   ],
   "source": [
    "print(\"Accuracy : \",accuracy_score(Y_test,Y_pred))\n",
    "print(\"Confusion Matrix : \\n\",confusion_matrix(Y_test,Y_pred))"
   ]
  },
  {
   "cell_type": "code",
   "execution_count": 51,
   "id": "ac17e070",
   "metadata": {},
   "outputs": [],
   "source": [
    "from imblearn.under_sampling import RandomUnderSampler\n",
    "model=DecisionTreeClassifier()\n",
    "over = SMOTE(sampling_strategy=0.1)\n",
    "under = RandomUnderSampler(sampling_strategy=0.5)\n",
    "steps = [('o', over), ('u', under), ('m', model)]"
   ]
  }
 ],
 "metadata": {
  "kernelspec": {
   "display_name": "Python 3",
   "language": "python",
   "name": "python3"
  },
  "language_info": {
   "codemirror_mode": {
    "name": "ipython",
    "version": 3
   },
   "file_extension": ".py",
   "mimetype": "text/x-python",
   "name": "python",
   "nbconvert_exporter": "python",
   "pygments_lexer": "ipython3",
   "version": "3.8.8"
  }
 },
 "nbformat": 4,
 "nbformat_minor": 5
}
